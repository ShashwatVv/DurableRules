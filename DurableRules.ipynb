{
  "nbformat": 4,
  "nbformat_minor": 0,
  "metadata": {
    "colab": {
      "name": "AI3.ipynb",
      "provenance": [],
      "collapsed_sections": []
    },
    "kernelspec": {
      "name": "python3",
      "display_name": "Python 3"
    },
    "language_info": {
      "name": "python"
    }
  },
  "cells": [
    {
      "cell_type": "code",
      "metadata": {
        "colab": {
          "base_uri": "https://localhost:8080/"
        },
        "id": "V4Q6eCIkwi71",
        "outputId": "2e31ad05-8c8c-4e31-b283-0f542d263275"
      },
      "source": [
        "pip install durable-rules"
      ],
      "execution_count": 1,
      "outputs": [
        {
          "output_type": "stream",
          "name": "stdout",
          "text": [
            "Requirement already satisfied: durable-rules in /usr/local/lib/python3.7/dist-packages (2.0.28)\n"
          ]
        }
      ]
    },
    {
      "cell_type": "code",
      "metadata": {
        "id": "kWu60M27xMni"
      },
      "source": [
        "# Durable Module implementing Forward Chaining.\n",
        "# Task:- Course and extra-curricular activity suggestion based upon grades and interests.\n",
        "# Created by - Shashwat Vaibhav, MT21082\n",
        "\n",
        "from durable.lang import *\n",
        "\n",
        "# considering three major factors while making suggestions:\n",
        "# 1.Interest\n",
        "# 2.Hobby\n",
        "# 3.Overall Grade('A', 'B' or 'C'). three grades in order of excellent, moderate and below-par "
      ],
      "execution_count": 2,
      "outputs": []
    },
    {
      "cell_type": "code",
      "metadata": {
        "id": "z29Kr-b_xTgh"
      },
      "source": [
        "with ruleset('interest'):\n",
        "  #choice 1---> Cyber Security\n",
        "  @when_all((m.choice=='Cyber-Security')&(m.grade=='A'))\n",
        "  def fun1(obj):\n",
        "    obj.assert_fact('hobby',{'area':'music'})\n",
        "    obj.assert_fact({'subject':'Opt for','predicate':'course name', 'object': 'ADVANCED Network Security'})\n",
        "  \n",
        "  @when_all((m.choice=='Cyber-Security')&(m.grade=='A'))\n",
        "  def fun1(obj):\n",
        "    obj.assert_fact('hobby',{'area':'sports'})\n",
        "    obj.assert_fact({'subject':'Opt for','predicate':'course name', 'object': 'ADVANCED Network Security'})\n",
        "\n",
        "  @when_all((m.choice=='Cyber-Security')&(m.grade=='A'))\n",
        "  def fun1(obj):\n",
        "    obj.assert_fact('hobby',{'area':'writing'})\n",
        "    obj.assert_fact({'subject':'Opt for','predicate':'course name', 'object': 'ADVANCED Network Security'})\n",
        "\n",
        "  @when_all((m.choice=='Cyber-Security')&(m.grade=='B'))\n",
        "  def fun1(obj):\n",
        "    obj.assert_fact('hobby',{'area':'music'})\n",
        "    obj.assert_fact({'subject':'Opt for','predicate':'course name', 'object': 'Cryptography and Network Security'})\n",
        "\n",
        "  @when_all((m.choice=='Cyber-Security')&(m.grade=='B'))\n",
        "  def fun1(obj):\n",
        "    obj.assert_fact('hobby',{'area':'sports'})\n",
        "    obj.assert_fact({'subject':'Opt for','predicate':'course name', 'object': 'Cryptography and Network Security'})\n",
        "  \n",
        "  @when_all((m.choice=='Cyber-Security')&(m.grade=='B'))\n",
        "  def fun1(obj):\n",
        "    obj.assert_fact('hobby',{'area':'writing'})\n",
        "    obj.assert_fact({'subject':'Opt for','predicate':'course name', 'object': 'Cryptography and Network Security'})\n",
        "\n",
        "  @when_all((m.choice=='Cyber-Security')&(m.grade=='C'))\n",
        "  def fun1(obj):\n",
        "    obj.assert_fact('hobby',{'area':'music'})\n",
        "    obj.assert_fact({'subject':'Opt for','predicate':'course name', 'object': 'Introduction to Network Administration'})\n",
        "\n",
        "  @when_all((m.choice=='Cyber-Security')&(m.grade=='C'))\n",
        "  def fun1(obj):\n",
        "    obj.assert_fact('hobby',{'area':'sports'})\n",
        "    obj.assert_fact({'subject':'Opt for','predicate':'course name', 'object': 'Introduction to Network Administration'})\n",
        "  \n",
        "  @when_all((m.choice=='Cyber-Security')&(m.grade=='C'))\n",
        "  def fun1(obj):\n",
        "    obj.assert_fact('hobby',{'area':'writing'})\n",
        "    obj.assert_fact({'subject':'Opt for','predicate':'course name', 'object': 'Introduction to Network Administration'})\n",
        "\n",
        "\n",
        "  #choice 2--> Artificial Intelligence\n",
        "\n",
        "  @when_all((m.choice=='Artificial Intelligence')&(m.grade=='A'))\n",
        "  def fun2(obj):\n",
        "    obj.assert_fact('hobby',{'area':'music'})\n",
        "    obj.assert_fact({'subject':'Opt for','predicate':'course name', 'object': 'ADVANCED Statistical Learning'})\n",
        "  \n",
        "  @when_all((m.choice=='Artificial Intelligence')&(m.grade=='A'))\n",
        "  def fun2(obj):\n",
        "    obj.assert_fact('hobby',{'area':'sports'})\n",
        "    obj.assert_fact({'subject':'Opt for','predicate':'course name', 'object': 'ADVANCED Statistical Learning'})\n",
        "\n",
        "  @when_all((m.choice=='Artificial Intelligence')&(m.grade=='A'))\n",
        "  def fun2(obj):\n",
        "    obj.assert_fact('hobby',{'area':'writing'})\n",
        "    obj.assert_fact({'subject':'Opt for','predicate':'course name', 'object': 'ADVANCED Statistical Learning'})\n",
        "\n",
        "  @when_all((m.choice=='Artificial Intelligence')&(m.grade=='B'))\n",
        "  def fun2(obj):\n",
        "    obj.assert_fact('hobby',{'area':'music'})\n",
        "    obj.assert_fact({'subject':'Opt for','predicate':'course name', 'object': 'Computer Vision'})\n",
        "\n",
        "  @when_all((m.choice=='Artificial Intelligence')&(m.grade=='B'))\n",
        "  def fun2(obj):\n",
        "    obj.assert_fact('hobby',{'area':'sports'})\n",
        "    obj.assert_fact({'subject':'Opt for','predicate':'course name', 'object': 'Computer Vision'})\n",
        "  \n",
        "  @when_all((m.choice=='Artificial Intelligence')&(m.grade=='B'))\n",
        "  def fun2(obj):\n",
        "    obj.assert_fact('hobby',{'area':'writing'})\n",
        "    obj.assert_fact({'subject':'Opt for','predicate':'course name', 'object': 'Computer Vision'})\n",
        "\n",
        "  @when_all((m.choice=='Artificial Intelligence')&(m.grade=='C'))\n",
        "  def fun2(obj):\n",
        "    obj.assert_fact('hobby',{'area':'music'})\n",
        "    obj.assert_fact({'subject':'Opt for','predicate':'course name', 'object': 'Introduction to NLP'})\n",
        "\n",
        "  @when_all((m.choice=='Artificial Intelligence')&(m.grade=='C'))\n",
        "  def fun2(obj):\n",
        "    obj.assert_fact('hobby',{'area':'sports'})\n",
        "    obj.assert_fact({'subject':'Opt for','predicate':'course name', 'object': 'Introduction to NLP'})\n",
        "  \n",
        "  @when_all((m.choice=='Artificial Intelligence')&(m.grade=='C'))\n",
        "  def fun2(obj):\n",
        "    obj.assert_fact('hobby',{'area':'writing'})\n",
        "    obj.assert_fact({'subject':'Opt for','predicate':'course name', 'object': 'Introduction to NLP'})\n",
        "\n",
        "  #Choice 3--> Bio Informatics\n",
        "  @when_all((m.choice=='Bio Informatics')&(m.grade=='A'))\n",
        "  def fun3(obj):\n",
        "    obj.assert_fact('hobby',{'area':'music'})\n",
        "    obj.assert_fact({'subject':'Opt for','predicate':'course name', 'object': 'ML in BioMedical Applications'})\n",
        "\n",
        "  @when_all((m.choice=='Bio Informatics')&(m.grade=='A'))\n",
        "  def fun3(obj):\n",
        "    obj.assert_fact('hobby',{'area':'sports'})\n",
        "    obj.assert_fact({'subject':'Opt for','predicate':'course name', 'object': 'ML in BioMedical Applications'})\n",
        "  \n",
        "  @when_all((m.choice=='Bio Informatics')&(m.grade=='A'))\n",
        "  def fun3(obj):\n",
        "    obj.assert_fact('hobby',{'area':'writing'})\n",
        "    obj.assert_fact({'subject':'Opt for','predicate':'course name', 'object': 'ML in BioMedical Applications'})\n",
        "\n",
        "  @when_all((m.choice=='Bio Informatics')&(m.grade=='B'))\n",
        "  def fun3(obj):\n",
        "    obj.assert_fact('hobby',{'area':'music'})\n",
        "    obj.assert_fact({'subject':'Opt for','predicate':'course name', 'object': 'Computational Gastronomy'})\n",
        "\n",
        "  @when_all((m.choice=='Bio Informatics')&(m.grade=='B'))\n",
        "  def fun3(obj):\n",
        "    obj.assert_fact('hobby',{'area':'sports'})\n",
        "    obj.assert_fact({'subject':'Opt for','predicate':'course name', 'object': 'Computational Gastronomy'})\n",
        "  \n",
        "  @when_all((m.choice=='Bio Informatics')&(m.grade=='B'))\n",
        "  def fun3(obj):\n",
        "    obj.assert_fact('hobby',{'area':'writing'})\n",
        "    obj.assert_fact({'subject':'Opt for','predicate':'course name', 'object': 'Computational Gastronomy'})\n",
        "  \n",
        "  @when_all((m.choice=='Bio Informatics')&(m.grade=='C'))\n",
        "  def fun3(obj):\n",
        "    obj.assert_fact('hobby',{'area':'music'})\n",
        "    obj.assert_fact({'subject':'Opt for','predicate':'course name', 'object': 'Advanced R/Python for CB'})\n",
        "\n",
        "  @when_all((m.choice=='Bio Informatics')&(m.grade=='C'))\n",
        "  def fun3(obj):\n",
        "    obj.assert_fact('hobby',{'area':'sports'})\n",
        "    obj.assert_fact({'subject':'Opt for','predicate':'course name', 'object': 'Advanced R/Python for CB'})\n",
        "  \n",
        "  @when_all((m.choice=='Bio Informatics')&(m.grade=='C'))\n",
        "  def fun3(obj):\n",
        "    obj.assert_fact('hobby',{'area':'writing'})\n",
        "    obj.assert_fact({'subject':'Opt for','predicate':'course name', 'object': 'Advanced R/Python for CB'})\n",
        "\n",
        "  #Choice 4--> Mobile Computing\n",
        "  @when_all((m.choice=='Mobile Computing')&(m.grade=='A'))\n",
        "  def fun4(obj):\n",
        "    obj.assert_fact('hobby',{'area':'music'})\n",
        "    obj.assert_fact({'subject':'Opt for','predicate':'course name', 'object': 'ADVANCED Wireless Design'})\n",
        "\n",
        "  @when_all((m.choice=='Mobile Computing')&(m.grade=='A'))\n",
        "  def fun4(obj):\n",
        "    obj.assert_fact('hobby',{'area':'sports'})\n",
        "    obj.assert_fact({'subject':'Opt for','predicate':'course name', 'object': 'ADVANCED Wireless Design'})\n",
        "  \n",
        "  @when_all((m.choice=='Mobile Computing')&(m.grade=='A'))\n",
        "  def fun4(obj):\n",
        "    obj.assert_fact('hobby',{'area':'writing'})\n",
        "    obj.assert_fact({'subject':'Opt for','predicate':'course name', 'object': 'ADVANCED Wireless Design'})\n",
        "\n",
        "  @when_all((m.choice=='Mobile Computing')&(m.grade=='B'))\n",
        "  def fun4(obj):\n",
        "    obj.assert_fact('hobby',{'area':'music'})\n",
        "    obj.assert_fact({'subject':'Opt for','predicate':'course name', 'object': 'Network Topology'})\n",
        "\n",
        "  @when_all((m.choice=='Mobile Computing')&(m.grade=='B'))\n",
        "  def fun4(obj):\n",
        "    obj.assert_fact('hobby',{'area':'sports'})\n",
        "    obj.assert_fact({'subject':'Opt for','predicate':'course name', 'object': 'Network Topology'})\n",
        "  \n",
        "  @when_all((m.choice=='Mobile Computing')&(m.grade=='B'))\n",
        "  def fun4(obj):\n",
        "    obj.assert_fact('hobby',{'area':'writing'})\n",
        "    obj.assert_fact({'subject':'Opt for','predicate':'course name', 'object': 'Network Topology'})\n",
        "  \n",
        "  @when_all((m.choice=='Mobile Computing')&(m.grade=='C'))\n",
        "  def fun4(obj):\n",
        "    obj.assert_fact('hobby',{'area':'music'})\n",
        "    obj.assert_fact({'subject':'Opt for','predicate':'course name', 'object': 'Cloud Computing'})\n",
        "\n",
        "  @when_all((m.choice=='Mobile Computing')&(m.grade=='C'))\n",
        "  def fun4(obj):\n",
        "    obj.assert_fact('hobby',{'area':'sports'})\n",
        "    obj.assert_fact({'subject':'Opt for','predicate':'course name', 'object': 'Cloud Computing'})\n",
        "  \n",
        "  @when_all((m.choice=='Mobile Computing')&(m.grade=='C'))\n",
        "  def fun4(obj):\n",
        "    obj.assert_fact('hobby',{'area':'writing'})\n",
        "    obj.assert_fact({'subject':'Opt for','predicate':'course name', 'object': 'Cloud Computing'})\n",
        "\n",
        "  @when_all(+m.subject)\n",
        "  def show(obj):\n",
        "    print('Fact/Statement: {0} {1} {2}'.format(obj.m.subject, obj.m.predicate, obj.m.object))\n"
      ],
      "execution_count": 3,
      "outputs": []
    },
    {
      "cell_type": "code",
      "metadata": {
        "id": "s5dAR_lnS-6m"
      },
      "source": [
        "#Let the clubs and associated activities be as follows:\n",
        "#1. Sur Sangam - vocals and instrumentals training as well as live performance.\n",
        "#2. Krida Mandal - Sports facility for cricket, footbal, squash and others.\n",
        "#3. Lekhani - Magazine writing, poetry, story-telling/writing, journalism, etc. "
      ],
      "execution_count": 4,
      "outputs": []
    },
    {
      "cell_type": "code",
      "metadata": {
        "id": "fWjyPVuy0KL8"
      },
      "source": [
        "with ruleset('hobby'):\n",
        "  @when_all(m.area=='music')\n",
        "  def fun4(hobj):\n",
        "    hobj.assert_fact({'subject':'Join the SUR SANGAM club and feel the note within!!'})\n",
        "\n",
        "  @when_all(m.area=='sports')\n",
        "  def fun4(hobj):\n",
        "    hobj.assert_fact({'subject':'Wake up the Ronaldo and Sachin within you, Join the KRIDA MANDAL CLUB!!'})\n",
        "\n",
        "  @when_all(m.area=='writing')\n",
        "  def fun4(hobj):\n",
        "    hobj.assert_fact({'subject':'Are you the next SARTRE, or the next DINNKAR, Join the LEKHANI CLUB!!'})\n",
        "\n",
        "  @when_all(+m.subject)\n",
        "  def show(hobj):\n",
        "    print('Fact/Statement: {0}'.format(hobj.m.subject))"
      ],
      "execution_count": 5,
      "outputs": []
    },
    {
      "cell_type": "code",
      "metadata": {
        "id": "1zZSN-XIWSLS"
      },
      "source": [
        "## Asserting Fact:\n",
        "#assert_fact('interest',{'choice':'choice name', 'grade':'A B or C'})"
      ],
      "execution_count": 6,
      "outputs": []
    },
    {
      "cell_type": "code",
      "metadata": {
        "colab": {
          "base_uri": "https://localhost:8080/"
        },
        "id": "P6rQDfkRXJ0o",
        "outputId": "57bdeab6-3177-4c5e-b273-8d41951c8bb0"
      },
      "source": [
        "assert_fact('interest',{'choice':'Mobile Computing', 'grade':'A'})"
      ],
      "execution_count": 7,
      "outputs": [
        {
          "output_type": "stream",
          "name": "stdout",
          "text": [
            "Fact/Statement: Join the SUR SANGAM club and feel the note within!!\n",
            "Fact/Statement: Wake up the Ronaldo and Sachin within you, Join the KRIDA MANDAL CLUB!!\n",
            "Fact/Statement: Are you the next SARTRE, or the next DINNKAR, Join the LEKHANI CLUB!!\n",
            "Fact/Statement: Opt for course name ADVANCED Wireless Design\n"
          ]
        },
        {
          "output_type": "execute_result",
          "data": {
            "text/plain": [
              "{'$s': 1,\n",
              " 'exception': 'exception caught {\\'subject\\': \\'Opt for\\', \\'predicate\\': \\'course name\\', \\'object\\': \\'ADVANCED Wireless Design\\', \\'sid\\': \\'0\\'}, traceback [\\'  File \"/usr/local/lib/python3.7/dist-packages/durable/engine.py\", line 241, in run\\\\n    self._func(c)\\\\n\\', \\'  File \"<ipython-input-3-84a1c94bc1d9>\", line 156, in fun4\\\\n    obj.assert_fact({\\\\\\'subject\\\\\\':\\\\\\'Opt for\\\\\\',\\\\\\'predicate\\\\\\':\\\\\\'course name\\\\\\', \\\\\\'object\\\\\\': \\\\\\'ADVANCED Wireless Design\\\\\\'})\\\\n\\', \\'  File \"/usr/local/lib/python3.7/dist-packages/durable/engine.py\", line 88, in assert_fact\\\\n    self._ruleset.assert_fact(fact)\\\\n\\', \\'  File \"/usr/local/lib/python3.7/dist-packages/durable/engine.py\", line 343, in assert_fact\\\\n    return self._handle_result(durable_rules_engine.assert_fact(self._handle, json.dumps(fact, ensure_ascii=False)), fact)\\\\n\\', \\'  File \"/usr/local/lib/python3.7/dist-packages/durable/engine.py\", line 330, in _handle_result\\\\n    raise MessageObservedException(message)\\\\n\\']',\n",
              " 'id': 'sid-0',\n",
              " 'sid': '0'}"
            ]
          },
          "metadata": {},
          "execution_count": 7
        }
      ]
    },
    {
      "cell_type": "code",
      "metadata": {
        "id": "IfvJ-9QzXrrE"
      },
      "source": [
        ""
      ],
      "execution_count": 7,
      "outputs": []
    }
  ]
}